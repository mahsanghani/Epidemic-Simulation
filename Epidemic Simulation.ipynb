{
 "cells": [
  {
   "cell_type": "code",
   "execution_count": null,
   "metadata": {},
   "outputs": [],
   "source": [
    "# learning julia by epidemic modelling"
   ]
  },
  {
   "cell_type": "code",
   "execution_count": null,
   "metadata": {},
   "outputs": [],
   "source": [
    "# Introduction"
   ]
  },
  {
   "cell_type": "markdown",
   "metadata": {},
   "source": [
    "1. Learn Julia: Beyond the basics\n",
    "Using examples from epidemic modelling\n",
    "In this workshop, we will learn some fundamentals of the Julia language beyond the basics: types and how to define them, dispatch, and generic programming.\n",
    "\n",
    "In my experience, learning programming language concepts is more fun and useful when they are embedded in the context of a particular application. Given the current situation (as of July 2020), epidemic modelling provides a key context. We will look at the simplest possible models for epidemics.\n",
    "\n",
    "We will take as given that you know basic use of variables, functions, for loops, and vectors, as well as basic plotting (with the Plots.jl library) and vectors in Julia.\n",
    "\n",
    "We will see various ways to simulate the dynamics of an epidemic, i.e., an outbreak of an infectious disease. In a population of people with $N$ individuals we will be interested in how the number of susceptible ($S$), infectious ($I$) and recovered ($R$) individuals changes over time.\n",
    "\n",
    "We will begin by looking at simple models that take into account only total numbers of people. But the main goal will be to see how to structure a more complicated individual-based or agent-based simulation, where we model individual people moving around space and interacting with one another.\n",
    "\n",
    "For simplicity, those individuals will be modelled as random walks on a grid, i.e. points that choose a neighbouring grid point at random to jump to.\n",
    "\n",
    "Since this is a workshop about Julia and not about epidemic modelling per se, the models we will use are all very (too) simple. However, once we have the basic ideas and Julia techniques, swapping in a more sophisticated mathematical model becomes much easier.\n",
    "\n",
    "The models we will study are stochastic (or random), i.e. they use probability and random numbers. You only need a basic idea of what it means for something to happen with a given probability, say $p=\\frac{1}{4}$: it means that you roll a die with 4 sides and do the action only if, say, the number 4 appears (which has a chance of 1 in 4 of appearing).\n",
    "\n",
    "Goal\n",
    "The main goal is to become comfortable with the use of intermediate-level concepts such as types, multiple dispatch and generic programming, as well as to cover some Julia style tips.\n",
    "\n",
    "[Comments inside square brackets, like this, are technical side remarks giving more precision about a statement, and should be ignored on a first reading!]\n",
    "\n",
    "Since this is a workshop, there will be plenty of exercises. You will get much more out of the workshop if you attempt them. I will go over some solutions during the workshop. As usual with programming, there is more than one way to do things though!\n",
    "\n",
    "We almost certainly will not have enough time to go over all the exercises; you should think of the remainder as being homework exercises.\n",
    "\n",
    "Modelling recovery\n",
    "Let's warm up by thinking about how to model the dynamics of a person recovering from an infection.\n",
    "\n",
    "Let's start off by supposing that we have 1 person that just got infected.\n",
    "\n",
    "We will model the recovery process as follows: at each step, the person recovers with probability $p$. We can think of this as flipping a biased coin: with probability $p$ we get heads, and with probability $1-p$ we get tails. [This is a Bernoulli trial.]\n",
    "\n",
    "Let's write a function to model this, since we will call this code many times and functions promote code re-use.\n",
    "\n"
   ]
  },
  {
   "cell_type": "code",
   "execution_count": null,
   "metadata": {},
   "outputs": [],
   "source": [
    "function coin(p)\n",
    "    r = rand()\n",
    "    return r < p\n",
    "end"
   ]
  },
  {
   "cell_type": "code",
   "execution_count": null,
   "metadata": {},
   "outputs": [],
   "source": [
    "\"Flip a biased coin with probability \\$p\\$\"\n",
    "\n",
    "function coin(p)\n",
    "    r = rand()\n",
    "    return r < p\n",
    "end"
   ]
  },
  {
   "cell_type": "code",
   "execution_count": null,
   "metadata": {},
   "outputs": [],
   "source": [
    "@code_warntype coin(0.3)"
   ]
  },
  {
   "cell_type": "code",
   "execution_count": null,
   "metadata": {},
   "outputs": [],
   "source": [
    "rand"
   ]
  },
  {
   "cell_type": "code",
   "execution_count": null,
   "metadata": {},
   "outputs": [],
   "source": [
    "rand()"
   ]
  },
  {
   "cell_type": "code",
   "execution_count": null,
   "metadata": {},
   "outputs": [],
   "source": [
    "r = rand()"
   ]
  },
  {
   "cell_type": "code",
   "execution_count": null,
   "metadata": {},
   "outputs": [],
   "source": [
    "r"
   ]
  },
  {
   "cell_type": "code",
   "execution_count": null,
   "metadata": {},
   "outputs": [],
   "source": [
    "typeof(r)"
   ]
  },
  {
   "cell_type": "code",
   "execution_count": null,
   "metadata": {},
   "outputs": [],
   "source": [
    "r < 0.5"
   ]
  },
  {
   "cell_type": "code",
   "execution_count": null,
   "metadata": {},
   "outputs": [],
   "source": [
    "c = coin(1//3)"
   ]
  },
  {
   "cell_type": "code",
   "execution_count": null,
   "metadata": {},
   "outputs": [],
   "source": [
    "c = coin(1/3)"
   ]
  },
  {
   "cell_type": "code",
   "execution_count": null,
   "metadata": {},
   "outputs": [],
   "source": [
    "coin(p) = rand() < p"
   ]
  },
  {
   "cell_type": "code",
   "execution_count": null,
   "metadata": {},
   "outputs": [],
   "source": [
    "coin(1/3)"
   ]
  },
  {
   "cell_type": "code",
   "execution_count": null,
   "metadata": {},
   "outputs": [],
   "source": [
    "v = [1,2,3]"
   ]
  },
  {
   "cell_type": "code",
   "execution_count": null,
   "metadata": {},
   "outputs": [],
   "source": [
    "v=[v;4]"
   ]
  },
  {
   "cell_type": "code",
   "execution_count": null,
   "metadata": {},
   "outputs": [],
   "source": [
    "sizehint!(v,100)"
   ]
  },
  {
   "cell_type": "code",
   "execution_count": null,
   "metadata": {},
   "outputs": [],
   "source": [
    "# Run Many Times: Automation"
   ]
  },
  {
   "cell_type": "code",
   "execution_count": null,
   "metadata": {},
   "outputs": [],
   "source": [
    "v = []"
   ]
  },
  {
   "cell_type": "code",
   "execution_count": null,
   "metadata": {},
   "outputs": [],
   "source": [
    "v = Int64[]"
   ]
  },
  {
   "cell_type": "code",
   "execution_count": null,
   "metadata": {},
   "outputs": [],
   "source": [
    "push!(v,1)"
   ]
  },
  {
   "cell_type": "code",
   "execution_count": null,
   "metadata": {},
   "outputs": [],
   "source": [
    "typeof(true)"
   ]
  },
  {
   "cell_type": "code",
   "execution_count": null,
   "metadata": {},
   "outputs": [],
   "source": [
    "v = Bool[]"
   ]
  },
  {
   "cell_type": "code",
   "execution_count": null,
   "metadata": {},
   "outputs": [],
   "source": [
    "v = [true]"
   ]
  },
  {
   "cell_type": "code",
   "execution_count": null,
   "metadata": {},
   "outputs": [],
   "source": [
    "b = coin(1//3)"
   ]
  },
  {
   "cell_type": "code",
   "execution_count": null,
   "metadata": {},
   "outputs": [],
   "source": [
    "Int64(b)"
   ]
  },
  {
   "cell_type": "code",
   "execution_count": null,
   "metadata": {},
   "outputs": [],
   "source": [
    "Float64(b)"
   ]
  },
  {
   "cell_type": "markdown",
   "metadata": {},
   "source": [
    "Exercise:\n",
    "\n",
    "Run coin $N=100$ times and store the results in a Vector. Can you think of two different ways to do this in Julia?\n",
    "In Julia we should always aim to have useful code inside a function. Make a function coins that takes as parameters $N$ and $p$ and runs coin $N$ times with probability $p$, and returns a vector of the results.\n",
    "\n",
    "Note: It is almost never useful to print things out (except possibly when debugging to see what's going wrong inside a function). Instead, return the results!\n",
    "\n",
    "Make a function success_rate that calculates the proportion of times that recovery was successful. Make sure to re-use the work that you have already done!\n",
    "Run success_rate 1000 times and store the result in a variable. Make a histogram of the result.\n",
    "Use Interact.jl to make an interactive visualization of taking the histogram of different amounts of data from this data set."
   ]
  },
  {
   "cell_type": "code",
   "execution_count": null,
   "metadata": {},
   "outputs": [],
   "source": [
    "v = Bool[]\n",
    "\n",
    "# for i in 1:100"
   ]
  },
  {
   "cell_type": "code",
   "execution_count": null,
   "metadata": {},
   "outputs": [],
   "source": [
    "1:10^7"
   ]
  },
  {
   "cell_type": "code",
   "execution_count": null,
   "metadata": {},
   "outputs": [],
   "source": [
    "typeof(1:100)"
   ]
  },
  {
   "cell_type": "code",
   "execution_count": null,
   "metadata": {},
   "outputs": [],
   "source": [
    "collect(1:10)"
   ]
  },
  {
   "cell_type": "code",
   "execution_count": null,
   "metadata": {},
   "outputs": [],
   "source": [
    "v = Bool[]\n",
    "p = 0.25\n",
    "\n",
    "val = for i in 1:100\n",
    "    c = coin(p)\n",
    "    push!(v,c)\n",
    "end"
   ]
  },
  {
   "cell_type": "code",
   "execution_count": null,
   "metadata": {},
   "outputs": [],
   "source": [
    "val"
   ]
  },
  {
   "cell_type": "code",
   "execution_count": null,
   "metadata": {},
   "outputs": [],
   "source": [
    "print(val)"
   ]
  },
  {
   "cell_type": "code",
   "execution_count": null,
   "metadata": {},
   "outputs": [],
   "source": [
    "typeof(val)"
   ]
  },
  {
   "cell_type": "code",
   "execution_count": null,
   "metadata": {},
   "outputs": [],
   "source": [
    "print(v')\n",
    "\n",
    "# transpose"
   ]
  },
  {
   "cell_type": "code",
   "execution_count": null,
   "metadata": {},
   "outputs": [],
   "source": [
    "v = [coin(p) for i in 1:100]\n",
    "\n",
    "print(v')"
   ]
  },
  {
   "cell_type": "code",
   "execution_count": null,
   "metadata": {},
   "outputs": [],
   "source": [
    "v = zeros(Int, 100)\n",
    "v'"
   ]
  },
  {
   "cell_type": "code",
   "execution_count": null,
   "metadata": {},
   "outputs": [],
   "source": [
    "for i in 1:100\n",
    "    c = coin(p)\n",
    "    v[i] = c\n",
    "end"
   ]
  },
  {
   "cell_type": "code",
   "execution_count": null,
   "metadata": {},
   "outputs": [],
   "source": [
    "coins(N,p) = [coin(p) for i in 1:N]"
   ]
  },
  {
   "cell_type": "code",
   "execution_count": null,
   "metadata": {},
   "outputs": [],
   "source": [
    "num_coins = 100\n",
    "probability = 0.25\n",
    "\n",
    "flips = coins(num_coins, probability);"
   ]
  },
  {
   "cell_type": "code",
   "execution_count": null,
   "metadata": {},
   "outputs": [],
   "source": [
    "sum(flips)"
   ]
  },
  {
   "cell_type": "code",
   "execution_count": null,
   "metadata": {},
   "outputs": [],
   "source": [
    "length(flips)"
   ]
  },
  {
   "cell_type": "code",
   "execution_count": null,
   "metadata": {},
   "outputs": [],
   "source": [
    "total = 0\n",
    "for i in 1:length(flips)\n",
    "    total = total + flips[i]\n",
    "end"
   ]
  },
  {
   "cell_type": "code",
   "execution_count": null,
   "metadata": {},
   "outputs": [],
   "source": [
    "total"
   ]
  },
  {
   "cell_type": "code",
   "execution_count": null,
   "metadata": {},
   "outputs": [],
   "source": [
    "flips'"
   ]
  },
  {
   "cell_type": "code",
   "execution_count": null,
   "metadata": {},
   "outputs": [],
   "source": [
    "flips[3]"
   ]
  },
  {
   "cell_type": "code",
   "execution_count": null,
   "metadata": {},
   "outputs": [],
   "source": [
    "v = [1,2,3]"
   ]
  },
  {
   "cell_type": "code",
   "execution_count": null,
   "metadata": {},
   "outputs": [],
   "source": [
    "v = 0"
   ]
  },
  {
   "cell_type": "code",
   "execution_count": null,
   "metadata": {},
   "outputs": [],
   "source": [
    "total = 0\n",
    "for i in eachindex(flips)\n",
    "    total = total + flips[i]\n",
    "end"
   ]
  },
  {
   "cell_type": "code",
   "execution_count": null,
   "metadata": {},
   "outputs": [],
   "source": [
    "eachindex(flips)"
   ]
  },
  {
   "cell_type": "code",
   "execution_count": null,
   "metadata": {},
   "outputs": [],
   "source": [
    "?Base.OneTo"
   ]
  },
  {
   "cell_type": "code",
   "execution_count": null,
   "metadata": {},
   "outputs": [],
   "source": [
    "# Broadcasting"
   ]
  },
  {
   "cell_type": "code",
   "execution_count": null,
   "metadata": {},
   "outputs": [],
   "source": [
    "rand(10)"
   ]
  },
  {
   "cell_type": "code",
   "execution_count": null,
   "metadata": {},
   "outputs": [],
   "source": [
    "rand(1:5, 10)"
   ]
  },
  {
   "cell_type": "code",
   "execution_count": null,
   "metadata": {},
   "outputs": [],
   "source": [
    "rand(10) < 0.5"
   ]
  },
  {
   "cell_type": "code",
   "execution_count": null,
   "metadata": {},
   "outputs": [],
   "source": [
    "# broadcast - run the function element by element\n",
    "\n",
    "rand(10) .< 0.5"
   ]
  },
  {
   "cell_type": "markdown",
   "metadata": {},
   "source": [
    ". means \"point\" -- pointwise (element-wise) operation"
   ]
  },
  {
   "cell_type": "code",
   "execution_count": null,
   "metadata": {},
   "outputs": [],
   "source": [
    "f(x) = 2x"
   ]
  },
  {
   "cell_type": "code",
   "execution_count": null,
   "metadata": {},
   "outputs": [],
   "source": [
    "f.(1:10)"
   ]
  },
  {
   "cell_type": "code",
   "execution_count": null,
   "metadata": {},
   "outputs": [],
   "source": [
    "success_rate(N, p) = sum(coins(N, p)) / N"
   ]
  },
  {
   "cell_type": "code",
   "execution_count": null,
   "metadata": {},
   "outputs": [],
   "source": [
    "success_rate(100, 0.25)"
   ]
  },
  {
   "cell_type": "code",
   "execution_count": null,
   "metadata": {},
   "outputs": [],
   "source": [
    "success_rate(100, 0.25)"
   ]
  },
  {
   "cell_type": "code",
   "execution_count": null,
   "metadata": {},
   "outputs": [],
   "source": [
    "N = 100\n",
    "p = 0.25\n",
    "num_times = 1000\n",
    "\n",
    "rates= [success_rate(N, p) for i in 1:num_times]"
   ]
  },
  {
   "cell_type": "code",
   "execution_count": null,
   "metadata": {},
   "outputs": [],
   "source": [
    "rates"
   ]
  },
  {
   "cell_type": "code",
   "execution_count": null,
   "metadata": {},
   "outputs": [],
   "source": [
    "# Plotting\n",
    "# Install Plots package -- only do this once for each Julia installation!"
   ]
  },
  {
   "cell_type": "code",
   "execution_count": null,
   "metadata": {},
   "outputs": [],
   "source": [
    "using Pkg\n",
    "Pkg.add(\"Plots\")"
   ]
  },
  {
   "cell_type": "code",
   "execution_count": null,
   "metadata": {},
   "outputs": [],
   "source": [
    "] add Plots"
   ]
  },
  {
   "cell_type": "code",
   "execution_count": null,
   "metadata": {},
   "outputs": [],
   "source": [
    "# Load the package in every session"
   ]
  },
  {
   "cell_type": "code",
   "execution_count": null,
   "metadata": {},
   "outputs": [],
   "source": [
    "using Plots"
   ]
  },
  {
   "cell_type": "code",
   "execution_count": null,
   "metadata": {},
   "outputs": [],
   "source": [
    "using WebIO\n",
    "WebIO.install_jupyter_nbextension()"
   ]
  },
  {
   "cell_type": "code",
   "execution_count": null,
   "metadata": {},
   "outputs": [],
   "source": [
    "scatter(rates)"
   ]
  },
  {
   "cell_type": "code",
   "execution_count": null,
   "metadata": {},
   "outputs": [],
   "source": [
    "@manipulate for n in 1:1000\n",
    "    histogram(rates[1:n], bins=100, normed=false)\n",
    "end"
   ]
  },
  {
   "cell_type": "code",
   "execution_count": null,
   "metadata": {},
   "outputs": [],
   "source": [
    "import Pkg; Pkg.add(\"Interact\")"
   ]
  },
  {
   "cell_type": "code",
   "execution_count": null,
   "metadata": {},
   "outputs": [],
   "source": [
    "using Interact"
   ]
  },
  {
   "cell_type": "code",
   "execution_count": null,
   "metadata": {},
   "outputs": [],
   "source": [
    "import Pkg; Pkg.add(\"WebIO\")"
   ]
  },
  {
   "cell_type": "code",
   "execution_count": null,
   "metadata": {},
   "outputs": [],
   "source": [
    "using WebIO\n",
    "WebIO.install_jupyter_nbextension()"
   ]
  },
  {
   "cell_type": "code",
   "execution_count": null,
   "metadata": {},
   "outputs": [],
   "source": [
    "@manipulate for i in 1:10\n",
    "    i^2\n",
    "end"
   ]
  },
  {
   "cell_type": "code",
   "execution_count": null,
   "metadata": {},
   "outputs": [],
   "source": [
    "rates = [success_rate(N,p) for i in 1:10^5];"
   ]
  },
  {
   "cell_type": "code",
   "execution_count": null,
   "metadata": {},
   "outputs": [],
   "source": [
    "@manipulate for n in 1:10000\n",
    "    histogram(rates[1:n], bins=100, normed=false)\n",
    "end"
   ]
  },
  {
   "cell_type": "markdown",
   "metadata": {},
   "source": [
    "2. Generic programming: Random walks\n",
    "We want to think about an infection propagating through space as people move around and interact with each other. Probably the simplest way to model spatial motion is using random walks: at each time step, each person jumps in a random direction. This could take place in 1D (1 dimension) or 2D. For simplicity we will allow only integers.\n",
    "\n",
    "Thinking initially about one single walker (person), how could we simulate this in the computer? We will run an algorithm that looks like:\n",
    "\n",
    "Initialise the walker\n",
    "At each step:\n",
    "move the walker\n",
    "store the current position\n",
    "Repeat from step 1\n",
    "Ideally we would write our code in such a way that it has this structure but is agnostic (unaware) of which type of walker is moving (1D, 2D, on a network, etc.). This is called generic programming.\n",
    "\n",
    "Coding it up\n",
    "Each step roughly corresponds to a different function. Each different type of walker will need a different way to initialize() itself. move() will return the new position chosen by the walker.\n",
    "\n",
    "The functions will need information about the walker, namely its current position. Here is a fleshed-out version:"
   ]
  },
  {
   "cell_type": "code",
   "execution_count": null,
   "metadata": {},
   "outputs": [],
   "source": [
    "\"Simulate a walk for `T` steps.\"\n",
    "function walk(T)\n",
    "    pos = initialize()\n",
    "    trajectory = [pos]\n",
    "    for t in 1:T\n",
    "        new_pos = move(pos)\n",
    "        push!(trajectory, new_pos)\n",
    "        pos = new_pos\n",
    "    end\n",
    "    return trajectory\n",
    "end"
   ]
  },
  {
   "cell_type": "code",
   "execution_count": null,
   "metadata": {},
   "outputs": [],
   "source": [
    "?walk"
   ]
  },
  {
   "cell_type": "code",
   "execution_count": null,
   "metadata": {},
   "outputs": [],
   "source": [
    "# Simulate\n",
    "\n",
    "walk(100)"
   ]
  },
  {
   "cell_type": "code",
   "execution_count": null,
   "metadata": {},
   "outputs": [],
   "source": [
    "# 1D\n",
    "\n",
    "initialize() = 0\n",
    "random_jump() = rand((-1,+1))\n",
    "move(x) = x + random_jump()"
   ]
  },
  {
   "cell_type": "code",
   "execution_count": null,
   "metadata": {},
   "outputs": [],
   "source": [
    "rand([-1,+1,5])"
   ]
  },
  {
   "cell_type": "code",
   "execution_count": null,
   "metadata": {},
   "outputs": [],
   "source": [
    "rand((-1,+1,5))"
   ]
  },
  {
   "cell_type": "code",
   "execution_count": null,
   "metadata": {},
   "outputs": [],
   "source": [
    "initialize"
   ]
  },
  {
   "cell_type": "code",
   "execution_count": null,
   "metadata": {},
   "outputs": [],
   "source": [
    "initialize()"
   ]
  },
  {
   "cell_type": "code",
   "execution_count": null,
   "metadata": {},
   "outputs": [],
   "source": [
    "move(0)"
   ]
  },
  {
   "cell_type": "code",
   "execution_count": null,
   "metadata": {},
   "outputs": [],
   "source": [
    "move(1)"
   ]
  },
  {
   "cell_type": "markdown",
   "metadata": {},
   "source": [
    "It is idiomatic (i.e. regarded as good programming style) in Julia to define tiny functions like this that do one little thing. Note that there is no cost to doing so: Julia will inline such functions, removing the function-call overhead that you might have in other languages.\n",
    "\n",
    "Having defined these functions, we can make a walk:"
   ]
  },
  {
   "cell_type": "code",
   "execution_count": null,
   "metadata": {},
   "outputs": [],
   "source": [
    "walk(100)"
   ]
  },
  {
   "cell_type": "code",
   "execution_count": null,
   "metadata": {},
   "outputs": [],
   "source": [
    "walk(100)'"
   ]
  },
  {
   "cell_type": "code",
   "execution_count": null,
   "metadata": {},
   "outputs": [],
   "source": [
    "using Plots"
   ]
  },
  {
   "cell_type": "code",
   "execution_count": null,
   "metadata": {},
   "outputs": [],
   "source": [
    "plot(walk(1000))\n",
    "plot!(walk(1000))"
   ]
  },
  {
   "cell_type": "code",
   "execution_count": null,
   "metadata": {},
   "outputs": [],
   "source": [
    "p = plot(legend=false)\n",
    "\n",
    "for i in 1:10\n",
    "    plot!(walk(1000))\n",
    "end\n",
    "\n",
    "plot!()"
   ]
  },
  {
   "cell_type": "code",
   "execution_count": null,
   "metadata": {},
   "outputs": [],
   "source": [
    "import Pkg; Pkg.add(\"PlotlyJS\")"
   ]
  },
  {
   "cell_type": "code",
   "execution_count": null,
   "metadata": {},
   "outputs": [],
   "source": [
    "plotlyjs()"
   ]
  },
  {
   "cell_type": "markdown",
   "metadata": {},
   "source": [
    "Generic programming\n",
    "But now how could we do a 2D walker? We hard-coded the function names inside walk, so we would have to redefine the functions using the same name. But if we do so, they would overwrite (replace) the 1D version, which would thus no longer be usable.\n",
    "\n",
    "Let's write versions of the functions for the 2D walker, e.g. using Vectors:"
   ]
  },
  {
   "cell_type": "code",
   "execution_count": null,
   "metadata": {},
   "outputs": [],
   "source": [
    "initialize_2D() = [0,0]\n",
    "\n",
    "move_2D(x) = [x[1] + random_jump(), x[2] + random_jump()]"
   ]
  },
  {
   "cell_type": "code",
   "execution_count": null,
   "metadata": {},
   "outputs": [],
   "source": [
    "move_2D(x) = [move(x[1]),move(x[2])]"
   ]
  },
  {
   "cell_type": "code",
   "execution_count": null,
   "metadata": {},
   "outputs": [],
   "source": [
    "initialize_2D()"
   ]
  },
  {
   "cell_type": "code",
   "execution_count": null,
   "metadata": {},
   "outputs": [],
   "source": [
    "move_2D([0,0])"
   ]
  },
  {
   "cell_type": "markdown",
   "metadata": {},
   "source": [
    "Note: For short vectors of fixed length like this, you should use SVectors from the StaticArrays.jl package to get much better performance. Exercise!\n",
    "\n",
    "How can we use these new functions, which have the wrong name, inside our walk function?\n",
    "\n",
    "The key idea is that we want to call these new functions when initialize and move are called inside walk. To do so we can pass these functions as arguments to walk!:"
   ]
  },
  {
   "cell_type": "code",
   "execution_count": null,
   "metadata": {},
   "outputs": [],
   "source": [
    "function walk(initialize, move, T)\n",
    "    pos = initialize()\n",
    "    trajectory = [pos]\n",
    "    for t in 1:T\n",
    "        pos = move(pos)\n",
    "        push!(trajectory, deepcopy(pos))\n",
    "    end\n",
    "    return trajectory\n",
    "end"
   ]
  },
  {
   "cell_type": "code",
   "execution_count": null,
   "metadata": {},
   "outputs": [],
   "source": [
    "methods(walk)"
   ]
  },
  {
   "cell_type": "code",
   "execution_count": null,
   "metadata": {},
   "outputs": [],
   "source": [
    "trajectory = walk(initialize_2D, move_2D, 10)"
   ]
  },
  {
   "cell_type": "code",
   "execution_count": null,
   "metadata": {},
   "outputs": [],
   "source": [
    "trajectory[1]"
   ]
  },
  {
   "cell_type": "code",
   "execution_count": null,
   "metadata": {},
   "outputs": [],
   "source": [
    "a = [1,2]\n",
    "v = [a]\n",
    "\n",
    "a[1] = 5\n",
    "push!(v,a)"
   ]
  },
  {
   "cell_type": "code",
   "execution_count": null,
   "metadata": {},
   "outputs": [],
   "source": [
    "trajectory = walk(initialize_2D, move_2D, 10)"
   ]
  },
  {
   "cell_type": "code",
   "execution_count": null,
   "metadata": {},
   "outputs": [],
   "source": [
    "w1 = initialize()\n",
    "w2 = initialize(2)"
   ]
  },
  {
   "cell_type": "markdown",
   "metadata": {},
   "source": [
    "Two walkers\n",
    "Exercise:\n",
    "Suppose there are two walkers in 1D, one of which starts at position 0 and the other of which starts at position 2. How long does it take for them to meet each other, i.e. to land on the same location? Write a function encounter that runs until they meet each other.\n",
    "Run this function many times and accumulate the resulting times in a vector.\n",
    "Plot the histogram of the result. How does it behave?\n",
    "How do these results change if the walkers live inside a box, e.g. from -20 to 20. At the ends of the box if they try to jump outside the box they \"bounce back\" and stay at the same location.\n"
   ]
  },
  {
   "cell_type": "code",
   "execution_count": null,
   "metadata": {},
   "outputs": [],
   "source": [
    "initialize(x) = x"
   ]
  },
  {
   "cell_type": "code",
   "execution_count": null,
   "metadata": {},
   "outputs": [],
   "source": [
    "w1 = initialize()\n",
    "w2 = initialize(2)"
   ]
  },
  {
   "cell_type": "code",
   "execution_count": null,
   "metadata": {},
   "outputs": [],
   "source": [
    "w1 = move(w1)\n",
    "w2 = move(w2)"
   ]
  },
  {
   "cell_type": "markdown",
   "metadata": {},
   "source": [
    "Counting when a walker passes through a point\n",
    "w = 3\n",
    "\n",
    "How many times does w pass through the origin up to some final time?\n",
    "\n",
    "Now suppose we would like a random walker to have some \"knowledge\", for example, we want it to keep track of how many times it has passed through the origin. This is data that we somehow want to \"associate to\" the walker, which will need to be stored in a variable somewhere. The walker should be able to \"remember\" and modify this information.\n",
    "\n",
    "In our above formulation it is not clear how to do this. We need to set up this variable to contain the initial position in the initialize function, and then update it in the move function, so this data needs to be shared between these two functions.\n",
    "\n",
    "There are two common ways to deal with this:\n",
    "\n",
    "Global variables, which live outside any function and are updated inside each function. However, this means that the functions can no longer be understood just by looking at their definition, and it allows outside influences to modify the data.\n",
    "\n",
    "Global variables make bad code that is hard to read and understand. Avoid them!\n",
    "\n",
    "Pass the data as an additional parameter to each function. Unfortunately this will require modifying the surrounding code where the functions are called.\n",
    "\n",
    "An apparent partial solution to this is to use a let block. This is a technique that allows us to create a new scope and a local variable that exists only inside that scope:"
   ]
  },
  {
   "cell_type": "code",
   "execution_count": null,
   "metadata": {},
   "outputs": [],
   "source": [
    "let x=0 \n",
    "    global init(s)=x=s\n",
    "    global move() = x += 1\n",
    "    global current()=x\n",
    "end"
   ]
  },
  {
   "cell_type": "code",
   "execution_count": null,
   "metadata": {},
   "outputs": [],
   "source": [
    "init(3)"
   ]
  },
  {
   "cell_type": "code",
   "execution_count": null,
   "metadata": {},
   "outputs": [],
   "source": [
    "move()"
   ]
  },
  {
   "cell_type": "code",
   "execution_count": null,
   "metadata": {},
   "outputs": [],
   "source": [
    "move()"
   ]
  },
  {
   "cell_type": "code",
   "execution_count": null,
   "metadata": {},
   "outputs": [],
   "source": [
    "current()"
   ]
  },
  {
   "cell_type": "code",
   "execution_count": null,
   "metadata": {},
   "outputs": [],
   "source": [
    "init(3)"
   ]
  },
  {
   "cell_type": "code",
   "execution_count": null,
   "metadata": {},
   "outputs": [],
   "source": [
    "move()\n",
    "x"
   ]
  },
  {
   "cell_type": "markdown",
   "metadata": {},
   "source": [
    "This seems like a great solution! That is, until you ask the question \"how can I make a second, independent walker?\". You can't, since as soon as you call initialize() again, you reset the value of x.\n",
    "\n",
    "Then you would probably start thinking about an array where you store the position of each walker, which is certainly doable. But probably you are starting to get the feeling that there should be a better solution, where we can make different walkers and refer to them individually."
   ]
  },
  {
   "cell_type": "markdown",
   "metadata": {},
   "source": [
    "3. Composite types\n",
    "In the previous notebook we began to see the need for a way to be able to describe objects that we are modelling in code, in such a way that the objects can have internal properties which are grouped together in one place.\n",
    "\n",
    "Our main goal will be to model a person who can move and has an infection status, telling us whether they are susceptible, infectious or recovered. We could also add other information, such as how many times it has passed through 0 or which direction it moved on the previous step.\n",
    "\n",
    "The main idea\n",
    "The main idea is to collect up or aggregate all relevant information into a new data structure, called a composite type (or custom type, aggregate type, user-defined type, ...).\n",
    "\n",
    "Basically we want to be able to specify the \"template\" / \"shape\" / \"structure\" for a bag or box that will contain all the relevant information; this specification is the type itself. Then we need to produce objects which have that structure, i.e. which contain the corresponding variables; these are called instances.\n",
    "\n",
    "In Julia this is accomplished using the struct keyword (short for \"structure\"). For example, we can make an object that contains the $x$ and $y$ coordinates of a walker in 2 dimensions as"
   ]
  },
  {
   "cell_type": "code",
   "execution_count": null,
   "metadata": {},
   "outputs": [],
   "source": [
    "struct Walker2D\n",
    "    x::Int64\n",
    "    y::Int64\n",
    "end"
   ]
  },
  {
   "cell_type": "markdown",
   "metadata": {},
   "source": [
    "What is Walker2D? It is the name of a new type:"
   ]
  },
  {
   "cell_type": "code",
   "execution_count": null,
   "metadata": {},
   "outputs": [],
   "source": [
    "Walker2D"
   ]
  },
  {
   "cell_type": "markdown",
   "metadata": {},
   "source": [
    "It is also the name of a pair of functions that Julia has automatically created for us:"
   ]
  },
  {
   "cell_type": "code",
   "execution_count": null,
   "metadata": {},
   "outputs": [],
   "source": [
    "methods(Walker2D)"
   ]
  },
  {
   "cell_type": "code",
   "execution_count": null,
   "metadata": {},
   "outputs": [],
   "source": [
    "w = Walker2D(1,2)"
   ]
  },
  {
   "cell_type": "code",
   "execution_count": null,
   "metadata": {},
   "outputs": [],
   "source": [
    "w"
   ]
  },
  {
   "cell_type": "code",
   "execution_count": null,
   "metadata": {},
   "outputs": [],
   "source": [
    "typeof(w)"
   ]
  },
  {
   "cell_type": "code",
   "execution_count": null,
   "metadata": {},
   "outputs": [],
   "source": [
    "w.x"
   ]
  },
  {
   "cell_type": "code",
   "execution_count": null,
   "metadata": {},
   "outputs": [],
   "source": [
    "w.y"
   ]
  },
  {
   "cell_type": "code",
   "execution_count": null,
   "metadata": {},
   "outputs": [],
   "source": [
    "w2 = Walker2D(3,4)"
   ]
  },
  {
   "cell_type": "code",
   "execution_count": null,
   "metadata": {},
   "outputs": [],
   "source": [
    "w2.x"
   ]
  },
  {
   "cell_type": "code",
   "execution_count": null,
   "metadata": {},
   "outputs": [],
   "source": [
    "w2.y"
   ]
  },
  {
   "cell_type": "code",
   "execution_count": null,
   "metadata": {},
   "outputs": [],
   "source": [
    "w.x, w.y"
   ]
  },
  {
   "cell_type": "markdown",
   "metadata": {},
   "source": [
    "So we see that this mechanism successfully allows us to create different objects of the same type. We can really now talk about having \"two separate walkers\" in our code, in a way that accurately reflects the situation we are trying to model.\n",
    "\n",
    "(Outer) constructors\n",
    "Suppose we want walkers to be born at the origin unless otherwise stated. We don't want to have to write Walker2D(0, 0) each time; we would like to just write Walker2D(). In other words, we want to add a new method to the function Walker2D:"
   ]
  },
  {
   "cell_type": "code",
   "execution_count": null,
   "metadata": {},
   "outputs": [],
   "source": [
    "Walker2D() = Walker2D(0,0)"
   ]
  },
  {
   "cell_type": "code",
   "execution_count": null,
   "metadata": {},
   "outputs": [],
   "source": [
    "Walker2D()"
   ]
  },
  {
   "cell_type": "code",
   "execution_count": null,
   "metadata": {},
   "outputs": [],
   "source": [
    "methods(Walker2D)"
   ]
  },
  {
   "cell_type": "markdown",
   "metadata": {},
   "source": [
    "Such a constructor is called an outer constructor, since it lives outside the definition of the type. [There are also inner constructors, which are used only if, for example, you want to be able to prevent creating objects which are invalid under some criterion. Prefer outer constructors whenever possible.]"
   ]
  },
  {
   "cell_type": "code",
   "execution_count": null,
   "metadata": {},
   "outputs": [],
   "source": [
    "Walker2D(1,2,3)"
   ]
  },
  {
   "cell_type": "code",
   "execution_count": null,
   "metadata": {},
   "outputs": [],
   "source": [
    "@which Walker2D(1.0,2.0)"
   ]
  },
  {
   "cell_type": "code",
   "execution_count": null,
   "metadata": {},
   "outputs": [],
   "source": [
    "methods(Walker2D)"
   ]
  },
  {
   "cell_type": "code",
   "execution_count": null,
   "metadata": {},
   "outputs": [],
   "source": [
    "Walker2D(1.0,2.0)"
   ]
  },
  {
   "cell_type": "code",
   "execution_count": null,
   "metadata": {},
   "outputs": [],
   "source": [
    "Walker2D(1.1,2.2)"
   ]
  },
  {
   "cell_type": "code",
   "execution_count": null,
   "metadata": {},
   "outputs": [],
   "source": [
    "round(Int, 1.1)"
   ]
  },
  {
   "cell_type": "markdown",
   "metadata": {},
   "source": [
    "Making walkers move\n",
    "Now we would like to make a walker move. We might think this would be easy: we should just modify one of its fields. However:"
   ]
  },
  {
   "cell_type": "code",
   "execution_count": null,
   "metadata": {},
   "outputs": [],
   "source": [
    "w"
   ]
  },
  {
   "cell_type": "code",
   "execution_count": null,
   "metadata": {},
   "outputs": [],
   "source": [
    "w.x = 10"
   ]
  },
  {
   "cell_type": "markdown",
   "metadata": {},
   "source": [
    "We are not allowed to modify the fields because we defined Walker2D as an immutable struct. \"Mutation\" is a computer science term, referring to the ability to modify an object. structs are immutable (non-modifiable) in Julia by default. Usually you will have better performance if you are able to use immutable structs. [Technically, they are probably stored on the stack, instead of the heap.]\n",
    "\n",
    "So in order to make our walker move, we need to create a new object with the new position. This could seem expensive, but in fact the Julia compiler will often be able to completely remove this object creation and produce code that is just as efficient as if there were no object at all!\n",
    "\n",
    "Exercise\n",
    "Make a function move_right that takes a Walker2D as argument. It returns a new walker, located one step to the right.\n",
    "\n",
    "Make a function jump that takes a Walker2D as argument and makes it move to a random adjacent location. You should choose either the $x$ or $y$ coordinate at random, and move that coordinate by 1 step in a random direction."
   ]
  },
  {
   "cell_type": "code",
   "execution_count": null,
   "metadata": {},
   "outputs": [],
   "source": [
    "move_right(w::Walker2D) = Walker2D(w.x+1,w.y)"
   ]
  },
  {
   "cell_type": "code",
   "execution_count": null,
   "metadata": {},
   "outputs": [],
   "source": [
    "move_left(w::Walker2D) = Walker2D(w.x-1,w.y)"
   ]
  },
  {
   "cell_type": "code",
   "execution_count": null,
   "metadata": {},
   "outputs": [],
   "source": [
    "move_up(w::Walker2D) = Walker2D(w.x,w.y+1)"
   ]
  },
  {
   "cell_type": "code",
   "execution_count": null,
   "metadata": {},
   "outputs": [],
   "source": [
    "move_down(w::Walker2D) = Walker2D(w.x,w.y-1)"
   ]
  },
  {
   "cell_type": "markdown",
   "metadata": {},
   "source": [
    "The syntax ::Walker2D means that we are restricting this method of move_right to work only when the object being passed in is of type Walker2D.\n",
    "\n",
    "In Julia, variables are names that are associated to values, i.e. they are bindings that \"point to\" objects located in memory. [Strictly speaking, the object may not actually have a physical location in memory; it may just live inside the CPU's registers. In fact, this is the best situation for performance.]\n",
    "\n",
    "We can update the binding by assigning a new object to that variable name:"
   ]
  },
  {
   "cell_type": "code",
   "execution_count": null,
   "metadata": {},
   "outputs": [],
   "source": [
    "w"
   ]
  },
  {
   "cell_type": "code",
   "execution_count": null,
   "metadata": {},
   "outputs": [],
   "source": [
    "move_right(w)"
   ]
  },
  {
   "cell_type": "code",
   "execution_count": null,
   "metadata": {},
   "outputs": [],
   "source": [
    "move_up(w)"
   ]
  },
  {
   "cell_type": "code",
   "execution_count": null,
   "metadata": {},
   "outputs": [],
   "source": [
    "move_left(w)"
   ]
  },
  {
   "cell_type": "code",
   "execution_count": null,
   "metadata": {},
   "outputs": [],
   "source": [
    "move_down(w)"
   ]
  },
  {
   "cell_type": "markdown",
   "metadata": {},
   "source": [
    "In this way we can have variables that refer to immutable structs but whose value we can change.\n",
    "\n",
    "Generic programming with types\n",
    "Let's think about our walk function from the previous notebook:"
   ]
  },
  {
   "cell_type": "code",
   "execution_count": null,
   "metadata": {},
   "outputs": [],
   "source": [
    "function walk(T)\n",
    "    pos = initialize()\n",
    "    trajectory = [pos]\n",
    "    for t in 1:T\n",
    "        pos = move(pos)\n",
    "        push!(trajectory, deepcopy(pos))\n",
    "    end\n",
    "    return trajectory\n",
    "end"
   ]
  },
  {
   "cell_type": "markdown",
   "metadata": {},
   "source": [
    "In the previous notebook we changed the behaviour by passing in different functions as arguments. Now, however, we have a (usually) better solution: we can make objects of different types behave in different ways!\n",
    "\n",
    "Indeed, we have not actually said what types are. They are basically labels that tell Julia how data (i.e. bits in memory) should behave when acted on by different functions. For example, internally Julia must call different functions to add two integers or two floating-point numbers together, since the internal representation of these numbers is very different.\n",
    "\n",
    "So let's rewrite walk so that it acts on an object w representing our walker:"
   ]
  },
  {
   "cell_type": "code",
   "execution_count": null,
   "metadata": {},
   "outputs": [],
   "source": [
    "\"Calculate the trajectory of a walker 'w' for time 'T'.\"\n",
    "function walk(w, T)\n",
    "    trajectory=[w]\n",
    "    for t in 1:T\n",
    "        w = move(w)\n",
    "        push!(trajectory, deepcopy(w))\n",
    "    end\n",
    "    return trajectory\n",
    "end"
   ]
  },
  {
   "cell_type": "markdown",
   "metadata": {},
   "source": [
    "It now accepts an argument w, which we expect to be some type of walker object. Note that we no longer call initialise – rather, we require that the user create their favourite type of walker object and pass it to us as an additional input argument to the function.\n",
    "\n",
    "What makes something a \"walker object\"? If we look at the function, we see that the only thing we actually do to w is to call move on it. So we have an informal interface: anything with a function move defined (that behaves in the correct way) will be OK! This is another example of generic programming.\n",
    "\n",
    "For example, we can use our function with standard Julia integers by defining a walk function on them:"
   ]
  },
  {
   "cell_type": "code",
   "execution_count": null,
   "metadata": {},
   "outputs": [],
   "source": [
    "move(w::Integer)=w+1"
   ]
  },
  {
   "cell_type": "markdown",
   "metadata": {},
   "source": [
    "Here, w::Integer is a type annotation. It is saying \"this version of the walk function applies when the argument is of type Integer. (Note that Integer is an abstract type that includes all concrete integer types, such as Int64 and BigInt.)\n",
    "\n",
    "Versions of functions (with the same function name) are known as methods in Julia. A (generic) function is made up of a patchwork of different methods that act on objects of different types. When we add a method that acts on a new type or combination of types we talk about extending the function.\n",
    "\n",
    "Note that it is rare for functions to live inside types in Julia, unlike in object-oriented languages. Functions are too important to be hidden away inside types! This is one of the main things that gives Julia a very different flavour and makes it much more flexible for scientific / technical computing.\n",
    "\n",
    "Now we can walk down the integers:"
   ]
  },
  {
   "cell_type": "code",
   "execution_count": null,
   "metadata": {},
   "outputs": [],
   "source": [
    "x0=3\n",
    "T=10\n",
    "\n",
    "trajectory=walk(x0,T)"
   ]
  },
  {
   "cell_type": "markdown",
   "metadata": {},
   "source": [
    "Exercise\n",
    "Define a Walker1D type and a new method for the move function (with the same function name, move!). Plot some trajectories as a function of time.\n",
    "Use the Walker2D type, together with the random jump code from the last notebook, to define another new method for move.\n",
    "Use this to calculate and plot a trajectory in space. Hint: An array comprehension is a simple way of extracting a given field from an object.\n",
    "Make an interactive visualization of a cloud of walkers over time."
   ]
  },
  {
   "cell_type": "code",
   "execution_count": null,
   "metadata": {},
   "outputs": [],
   "source": [
    "struct Hello\n",
    "    n::Int64\n",
    "    v::Vector{Int64}\n",
    "end"
   ]
  },
  {
   "cell_type": "code",
   "execution_count": null,
   "metadata": {},
   "outputs": [],
   "source": [
    "h = Hello(1,[3,4])"
   ]
  },
  {
   "cell_type": "code",
   "execution_count": null,
   "metadata": {},
   "outputs": [],
   "source": [
    "h.v = [4,5]"
   ]
  },
  {
   "cell_type": "code",
   "execution_count": null,
   "metadata": {},
   "outputs": [],
   "source": [
    "h.v[2] = 10"
   ]
  },
  {
   "cell_type": "code",
   "execution_count": null,
   "metadata": {},
   "outputs": [],
   "source": [
    "push!(h.v,100)"
   ]
  },
  {
   "cell_type": "code",
   "execution_count": null,
   "metadata": {},
   "outputs": [],
   "source": [
    "h"
   ]
  },
  {
   "cell_type": "code",
   "execution_count": null,
   "metadata": {},
   "outputs": [],
   "source": [
    "struct Walker1D\n",
    "    x::Int64\n",
    "end"
   ]
  },
  {
   "cell_type": "code",
   "execution_count": null,
   "metadata": {},
   "outputs": [],
   "source": [
    "move(w::Walker1D) = Walker1D(w.x+1)"
   ]
  },
  {
   "cell_type": "code",
   "execution_count": null,
   "metadata": {},
   "outputs": [],
   "source": [
    "w = Walker1D(10)"
   ]
  },
  {
   "cell_type": "code",
   "execution_count": null,
   "metadata": {},
   "outputs": [],
   "source": [
    "walk(w,5)"
   ]
  },
  {
   "cell_type": "code",
   "execution_count": null,
   "metadata": {},
   "outputs": [],
   "source": [
    "move(w::Walker2D) = move_right(w)"
   ]
  },
  {
   "cell_type": "code",
   "execution_count": null,
   "metadata": {},
   "outputs": [],
   "source": [
    "w2 = Walker2D(6,7)"
   ]
  },
  {
   "cell_type": "code",
   "execution_count": null,
   "metadata": {},
   "outputs": [],
   "source": [
    "walk(w2,5)"
   ]
  },
  {
   "cell_type": "code",
   "execution_count": null,
   "metadata": {},
   "outputs": [],
   "source": [
    "@code_warntype walk(w2,5)"
   ]
  },
  {
   "cell_type": "code",
   "execution_count": null,
   "metadata": {},
   "outputs": [],
   "source": [
    "methods(move)"
   ]
  },
  {
   "cell_type": "code",
   "execution_count": null,
   "metadata": {},
   "outputs": [],
   "source": [
    "w"
   ]
  },
  {
   "cell_type": "code",
   "execution_count": null,
   "metadata": {},
   "outputs": [],
   "source": [
    "move(w)"
   ]
  },
  {
   "cell_type": "code",
   "execution_count": null,
   "metadata": {},
   "outputs": [],
   "source": [
    "move(w)"
   ]
  },
  {
   "cell_type": "markdown",
   "metadata": {},
   "source": [
    "Mutable structs\n",
    "An alternative approach is to use mutable structs, where the fields can be modified. Functions that modify the content of an object have ! appended to their names by convention:"
   ]
  },
  {
   "cell_type": "code",
   "execution_count": null,
   "metadata": {},
   "outputs": [],
   "source": [
    "mutable struct MutableWalker1D\n",
    "    x::Int\n",
    "end"
   ]
  },
  {
   "cell_type": "code",
   "execution_count": null,
   "metadata": {},
   "outputs": [],
   "source": [
    "w = MutableWalker1D(0)"
   ]
  },
  {
   "cell_type": "code",
   "execution_count": null,
   "metadata": {},
   "outputs": [],
   "source": [
    "w.x=1"
   ]
  },
  {
   "cell_type": "markdown",
   "metadata": {},
   "source": [
    "However, it is usually preferable for getting good performance to use immutable structs.\n",
    "\n",
    "Exercise\n",
    "Define a move! function that updates the value stored inside the MutableWalker1D object. Can you re-use code you have already written?\n"
   ]
  },
  {
   "cell_type": "code",
   "execution_count": null,
   "metadata": {},
   "outputs": [],
   "source": [
    "f(g,x) = g(x)"
   ]
  },
  {
   "cell_type": "code",
   "execution_count": null,
   "metadata": {},
   "outputs": [],
   "source": [
    "k(x) = x + 10"
   ]
  },
  {
   "cell_type": "code",
   "execution_count": null,
   "metadata": {},
   "outputs": [],
   "source": [
    "f(k,3)"
   ]
  },
  {
   "cell_type": "code",
   "execution_count": null,
   "metadata": {},
   "outputs": [],
   "source": [
    "g=k"
   ]
  },
  {
   "cell_type": "code",
   "execution_count": null,
   "metadata": {},
   "outputs": [],
   "source": [
    "g"
   ]
  },
  {
   "cell_type": "code",
   "execution_count": null,
   "metadata": {},
   "outputs": [],
   "source": [
    "2*k(3)"
   ]
  },
  {
   "cell_type": "code",
   "execution_count": null,
   "metadata": {},
   "outputs": [],
   "source": [
    "k(3)"
   ]
  },
  {
   "cell_type": "code",
   "execution_count": null,
   "metadata": {},
   "outputs": [],
   "source": [
    "@code_warntype k(3)"
   ]
  },
  {
   "cell_type": "code",
   "execution_count": null,
   "metadata": {},
   "outputs": [],
   "source": [
    "@code_warntype f(k,3)"
   ]
  },
  {
   "cell_type": "code",
   "execution_count": null,
   "metadata": {},
   "outputs": [],
   "source": [
    "k2(x) = x + 10.0"
   ]
  },
  {
   "cell_type": "code",
   "execution_count": null,
   "metadata": {},
   "outputs": [],
   "source": [
    "f(k2,3)"
   ]
  },
  {
   "cell_type": "code",
   "execution_count": null,
   "metadata": {},
   "outputs": [],
   "source": [
    "@code_warntype f(k2,3)"
   ]
  },
  {
   "cell_type": "markdown",
   "metadata": {},
   "source": [
    "4. Types for agents\n",
    "We are getting towards our goal of putting everything together to make a model of people moving around and interacting with one another. Most people start off susceptible, but when an infectious person meets a susceptible the infection is transmitted with a certain probability\n",
    "\n",
    "We will make an individual-based model, also called an agent-based model. We need a struct called Agent that contains whatever information an agent needs. In our case we will need a position and an infection status.\n",
    "\n",
    "The position will behave almost like a normal random walk that we have seen before, while the infection status needs to reflect whether the agent is susceptible (S), infectious (I) or recovered / removed (R).\n",
    "\n",
    "Enums\n",
    "We could represent the infection status simply using an integer, e.g. 0, 1 or 2. But then our code will be hard to read, since we will be comparing the infection status to numbers all the time without remembering which one is which.\n",
    "\n",
    "Rather we would prefer to have the symbols S, I and R. We could just define global constants for these, but there is a better alternative: an Enum.\n",
    "\n",
    "Enum is short for \"enumerated type\". We want a new type, InfectionStatus, with possible values S, I and R. We can achieve this as follows:\n",
    "\n"
   ]
  },
  {
   "cell_type": "code",
   "execution_count": null,
   "metadata": {},
   "outputs": [],
   "source": [
    "@enum InfectionStatus S=1 I R"
   ]
  },
  {
   "cell_type": "code",
   "execution_count": null,
   "metadata": {},
   "outputs": [],
   "source": [
    "InfectionStatus"
   ]
  },
  {
   "cell_type": "markdown",
   "metadata": {},
   "source": [
    "We see that I is an object of type InfectionStatus, which has the value 2, in the sense that we can convert it to an integer:"
   ]
  },
  {
   "cell_type": "code",
   "execution_count": null,
   "metadata": {},
   "outputs": [],
   "source": [
    "status = I\n",
    "Int(status)"
   ]
  },
  {
   "cell_type": "code",
   "execution_count": null,
   "metadata": {},
   "outputs": [],
   "source": [
    "status"
   ]
  },
  {
   "cell_type": "code",
   "execution_count": null,
   "metadata": {},
   "outputs": [],
   "source": [
    "if status == I\n",
    "    println(\"infected!\")\n",
    "end"
   ]
  },
  {
   "cell_type": "code",
   "execution_count": null,
   "metadata": {},
   "outputs": [],
   "source": [
    "if status == 3\n",
    "    println(\"recovered!\")\n",
    "end"
   ]
  },
  {
   "cell_type": "code",
   "execution_count": null,
   "metadata": {},
   "outputs": [],
   "source": [
    "status == I"
   ]
  },
  {
   "cell_type": "code",
   "execution_count": null,
   "metadata": {},
   "outputs": [],
   "source": [
    "Int(status) == 2"
   ]
  },
  {
   "cell_type": "code",
   "execution_count": null,
   "metadata": {},
   "outputs": [],
   "source": [
    "S < I"
   ]
  },
  {
   "cell_type": "code",
   "execution_count": null,
   "metadata": {},
   "outputs": [],
   "source": [
    "I < S"
   ]
  },
  {
   "cell_type": "markdown",
   "metadata": {},
   "source": [
    "In our application the integer values corresponding to each state are arbitrary, but in other applications you may want to give meaning to the numerical values.\n",
    "\n",
    "Agent type: Inheritance\n",
    "How can we create an Agent type for an agent that lives in 2D? Perhaps the simplest way is as follows:\n",
    "\n"
   ]
  },
  {
   "cell_type": "code",
   "execution_count": null,
   "metadata": {},
   "outputs": [],
   "source": [
    "struct SimpleAgent1\n",
    "    x::Int64\n",
    "    y::Int64\n",
    "    status::InfectionStatus\n",
    "end"
   ]
  },
  {
   "cell_type": "markdown",
   "metadata": {},
   "source": [
    "\n",
    "[Note that in Julia you cannot redefine a struct to have different fields in the same session. We will make several versions so we are just adding a number to each one.]\n",
    "\n",
    "Exercise\n",
    "Create an object of type SimpleAgent1.\n",
    "Write a method of move for SimpleAgent1."
   ]
  },
  {
   "cell_type": "code",
   "execution_count": null,
   "metadata": {},
   "outputs": [],
   "source": [
    "InfectionStatus(2)"
   ]
  },
  {
   "cell_type": "code",
   "execution_count": null,
   "metadata": {},
   "outputs": [],
   "source": [
    "InfectionStatus(5)"
   ]
  },
  {
   "cell_type": "code",
   "execution_count": null,
   "metadata": {},
   "outputs": [],
   "source": [
    "methods(SimpleAgent1)"
   ]
  },
  {
   "cell_type": "code",
   "execution_count": null,
   "metadata": {},
   "outputs": [],
   "source": [
    "a = SimpleAgent1(1,2,S)"
   ]
  },
  {
   "cell_type": "code",
   "execution_count": null,
   "metadata": {},
   "outputs": [],
   "source": [
    "SimpleAgent1(1,2,1)"
   ]
  },
  {
   "cell_type": "code",
   "execution_count": null,
   "metadata": {},
   "outputs": [],
   "source": [
    "SimpleAgent1(1,2,InfectionStatus(1))"
   ]
  },
  {
   "cell_type": "code",
   "execution_count": null,
   "metadata": {},
   "outputs": [],
   "source": [
    "move(a::SimpleAgent1) = SimpleAgent1(a.x+1,a.y,a.status)"
   ]
  },
  {
   "cell_type": "code",
   "execution_count": null,
   "metadata": {},
   "outputs": [],
   "source": [
    "infect(a::SimpleAgent1) = SimpleAgent1(a.x,a.y,I)"
   ]
  },
  {
   "cell_type": "code",
   "execution_count": null,
   "metadata": {},
   "outputs": [],
   "source": [
    "a = SimpleAgent1(1,2,S)"
   ]
  },
  {
   "cell_type": "code",
   "execution_count": null,
   "metadata": {},
   "outputs": [],
   "source": [
    "infect(a)"
   ]
  },
  {
   "cell_type": "code",
   "execution_count": null,
   "metadata": {},
   "outputs": [],
   "source": [
    "a"
   ]
  },
  {
   "cell_type": "code",
   "execution_count": null,
   "metadata": {},
   "outputs": [],
   "source": [
    "a = infect(a)"
   ]
  },
  {
   "cell_type": "markdown",
   "metadata": {},
   "source": [
    "The problem with this is that we have duplicated codfe: move for SimpleAgent1 looks identical to the one for Walker2D.\n",
    "\n",
    "One way to reduce duplication is using a form of inheritance, by making both types subtypes of a common type. The subtype relation is written X <: Y (read \"X is a subtype of Y\"). The common type is an abstract type:\n",
    "\n"
   ]
  },
  {
   "cell_type": "code",
   "execution_count": null,
   "metadata": {},
   "outputs": [],
   "source": [
    "abstract type AbstractWalker2D end"
   ]
  },
  {
   "cell_type": "code",
   "execution_count": null,
   "metadata": {},
   "outputs": [],
   "source": [
    "struct SimpleWalker2D <: AbstractWalker2D\n",
    "    x::Int64\n",
    "    y::Int64\n",
    "end"
   ]
  },
  {
   "cell_type": "code",
   "execution_count": null,
   "metadata": {},
   "outputs": [],
   "source": [
    "struct SimpleAgent2 <: AbstractWalker2D\n",
    "    x::Int64\n",
    "    y::Int64\n",
    "    status::InfectionStatus\n",
    "end"
   ]
  },
  {
   "cell_type": "markdown",
   "metadata": {},
   "source": [
    "Since these two types share common fields, we can write the move method just once, giving the abstract type as the type annotation.\n",
    "\n",
    "Exercise\n",
    "How can you create an object of type SimpleAgent2?\n",
    "Can you extend the move function such that it works for both SimpleWalker2D and SimpleAgent2?\n",
    "Composition\n",
    "An alternative method, which is usually more powerful and general, is to use composition, i.e. placing one object inside another:"
   ]
  },
  {
   "cell_type": "code",
   "execution_count": null,
   "metadata": {},
   "outputs": [],
   "source": [
    "struct SimpleWalker2D\n",
    "    x::Int64\n",
    "    y::Int64\n",
    "end"
   ]
  },
  {
   "cell_type": "code",
   "execution_count": null,
   "metadata": {},
   "outputs": [],
   "source": [
    "@enum InfecitonStatus S I R"
   ]
  },
  {
   "cell_type": "code",
   "execution_count": null,
   "metadata": {},
   "outputs": [],
   "source": [
    "struct Agent1\n",
    "    position::SimpleWalker2D\n",
    "    status::InfectionStatus\n",
    "end"
   ]
  },
  {
   "cell_type": "markdown",
   "metadata": {},
   "source": [
    "At first glance this may look a little strange, since we seem to be saying that an agent contains a walker. But really it is just a way to maintain the data inside its pacakge and be able to reuse the infrastructure that we have already built up for that type.\n",
    "\n",
    "Exercise\n",
    "How can you construct an object of type Agent1?\n",
    "How would you extend move for Agent1?"
   ]
  },
  {
   "cell_type": "code",
   "execution_count": null,
   "metadata": {},
   "outputs": [],
   "source": [
    "move(w::SimpleWalker2D) = SimpleWalker2D(w.x+1,w.y)"
   ]
  },
  {
   "cell_type": "code",
   "execution_count": null,
   "metadata": {},
   "outputs": [],
   "source": [
    "w = SimpleWalker2D(1,2)"
   ]
  },
  {
   "cell_type": "code",
   "execution_count": null,
   "metadata": {},
   "outputs": [],
   "source": [
    "a = Agent1(w,S)"
   ]
  },
  {
   "cell_type": "code",
   "execution_count": null,
   "metadata": {},
   "outputs": [],
   "source": [
    "Agent1(SimpleWalker2D(1,2),S)"
   ]
  },
  {
   "cell_type": "markdown",
   "metadata": {},
   "source": [
    "Extend Base.show:"
   ]
  },
  {
   "cell_type": "code",
   "execution_count": null,
   "metadata": {},
   "outputs": [],
   "source": [
    "function Base.show(io::IO,w::SimpleWalker2D)\n",
    "    print(io,\"($(w.x),$(w.y))\")\n",
    "end"
   ]
  },
  {
   "cell_type": "code",
   "execution_count": null,
   "metadata": {},
   "outputs": [],
   "source": [
    "function Base.show(io::IO, a::Agent1)\n",
    "    print(io,\"Agent object with position $(a.position) and status $(a.status)\")\n",
    "end"
   ]
  },
  {
   "cell_type": "code",
   "execution_count": null,
   "metadata": {},
   "outputs": [],
   "source": [
    "a"
   ]
  },
  {
   "cell_type": "markdown",
   "metadata": {},
   "source": [
    "To change only one field inside an object: SetField.jl, Lens.jl\n",
    "\n",
    "Parametrised types\n",
    "However, now suppose we want to have agents that live in 1D or 2D, or on a network etc. Currently we would have to make different types Agent2D, Agent1D, ... that look almost identical.\n",
    "\n",
    "We have already seen a few times that whenever we observe code duplication like this, it's a hint that there is a possible abstraction. Basically we want to be able to say \"an agent has some kind of position, and an infection status\".\n",
    "\n",
    "We could write this as follows:"
   ]
  },
  {
   "cell_type": "code",
   "execution_count": null,
   "metadata": {},
   "outputs": [],
   "source": [
    "struct Agent2\n",
    "    position\n",
    "    status::InfectionStatus\n",
    "end"
   ]
  },
  {
   "cell_type": "code",
   "execution_count": null,
   "metadata": {},
   "outputs": [],
   "source": [
    "Agent2(3,S)"
   ]
  },
  {
   "cell_type": "code",
   "execution_count": null,
   "metadata": {},
   "outputs": [],
   "source": [
    "Agent2(\"hello\",S)"
   ]
  },
  {
   "cell_type": "markdown",
   "metadata": {},
   "source": [
    "with no type annotation on position. However, it turns out that this is very bad for performance in Julia.\n",
    "\n",
    "Never define a composite type with untyped or abstractly-typed fields.\n",
    "\n",
    "[Unless you really know what you are doing, or don't care at all about performance.]\n",
    "\n",
    "To get high performance we need to always allow Julia to be able to work out the types of everything.\n",
    "\n",
    "The correct solution is to use a parametrised type:"
   ]
  },
  {
   "cell_type": "code",
   "execution_count": null,
   "metadata": {},
   "outputs": [],
   "source": [
    "struct Agent3{P}\n",
    "    position::P\n",
    "    status::InfectionStatus\n",
    "end"
   ]
  },
  {
   "cell_type": "code",
   "execution_count": null,
   "metadata": {},
   "outputs": [],
   "source": [
    "struct Agent3_Int64\n",
    "    position::Int64\n",
    "end"
   ]
  },
  {
   "cell_type": "code",
   "execution_count": null,
   "metadata": {},
   "outputs": [],
   "source": [
    "struct Agent3_Float64\n",
    "    position::Float64\n",
    "end"
   ]
  },
  {
   "cell_type": "code",
   "execution_count": null,
   "metadata": {},
   "outputs": [],
   "source": [
    "struct Agent4{T}\n",
    "    position::T\n",
    "end"
   ]
  },
  {
   "cell_type": "code",
   "execution_count": null,
   "metadata": {},
   "outputs": [],
   "source": [
    "Agent4(1)"
   ]
  },
  {
   "cell_type": "code",
   "execution_count": null,
   "metadata": {},
   "outputs": [],
   "source": [
    "Agent4(\"hello:\")"
   ]
  },
  {
   "cell_type": "markdown",
   "metadata": {},
   "source": [
    "Here, P is a type parameter. You can think of it as a special kind of variable that holds a type. Julia will work out what this type should be, based on the kind of object you supply for the position field.\n",
    "\n",
    "If there is a common abstract type AbstractWalker for all of the possible types that we want to be able to use for P, then we can instead write\n",
    "\n"
   ]
  },
  {
   "cell_type": "code",
   "execution_count": null,
   "metadata": {},
   "outputs": [],
   "source": [
    "struct Agent4{P <: AbstractWalker}\n",
    "    position::P\n",
    "    status::InfectionStatus\n",
    "end"
   ]
  },
  {
   "cell_type": "markdown",
   "metadata": {},
   "source": [
    "This restricts the allowed types that can be used for P, which is often desirable. However, it may exclude other possible types, for example Int, which cannot be made into a subtype of AbstractWalker. In this case the previous, unrestricted version may be better.\n",
    "\n",
    "[You can also use Union to specify different allowed types.]"
   ]
  },
  {
   "cell_type": "code",
   "execution_count": null,
   "metadata": {},
   "outputs": [],
   "source": [
    "struct Agent5{P}\n",
    "    position::P\n",
    "    status::InfectionStatus\n",
    "end"
   ]
  },
  {
   "cell_type": "code",
   "execution_count": null,
   "metadata": {},
   "outputs": [],
   "source": [
    "Agent5(3,S)"
   ]
  },
  {
   "cell_type": "code",
   "execution_count": null,
   "metadata": {},
   "outputs": [],
   "source": [
    "Agent5(\"hello\",S)"
   ]
  },
  {
   "cell_type": "code",
   "execution_count": null,
   "metadata": {},
   "outputs": [],
   "source": [
    "Agent5(Agent5(3,S),S)"
   ]
  },
  {
   "cell_type": "markdown",
   "metadata": {},
   "source": [
    "\n",
    "Exercise\n",
    "Construct objects of type Agent3 with different types for P. Hint: You don't need to explicitly tell Julia the type parameter – it should be worked out automatically!\n",
    "\n",
    "Exercise: Write a move function"
   ]
  },
  {
   "cell_type": "code",
   "execution_count": null,
   "metadata": {},
   "outputs": [],
   "source": [
    "w = SimpleWalker2D(1,2)\n",
    "\n",
    "a = Agent5(w,S)"
   ]
  },
  {
   "cell_type": "code",
   "execution_count": null,
   "metadata": {},
   "outputs": [],
   "source": [
    "Agent5"
   ]
  },
  {
   "cell_type": "code",
   "execution_count": null,
   "metadata": {},
   "outputs": [],
   "source": [
    "move(a::Agent5) = Agent5(move(a.position), a.status)"
   ]
  },
  {
   "cell_type": "code",
   "execution_count": null,
   "metadata": {},
   "outputs": [],
   "source": [
    "a"
   ]
  },
  {
   "cell_type": "code",
   "execution_count": null,
   "metadata": {},
   "outputs": [],
   "source": [
    "move(a)"
   ]
  },
  {
   "cell_type": "markdown",
   "metadata": {},
   "source": [
    "Walkers in any number of dimensions (N)"
   ]
  },
  {
   "cell_type": "code",
   "execution_count": null,
   "metadata": {},
   "outputs": [],
   "source": [
    "struct SimpleWalker{N,T}\n",
    "    position::NTuple{N,T}\n",
    "end"
   ]
  },
  {
   "cell_type": "code",
   "execution_count": null,
   "metadata": {},
   "outputs": [],
   "source": [
    "SimpleWalker((1,2))"
   ]
  },
  {
   "cell_type": "code",
   "execution_count": null,
   "metadata": {},
   "outputs": [],
   "source": [
    "SimpleWalker((1,2,-1,10,17))"
   ]
  },
  {
   "cell_type": "code",
   "execution_count": null,
   "metadata": {},
   "outputs": [],
   "source": [
    "import Pkg; Pkg.add(\"StaticArrays\")"
   ]
  },
  {
   "cell_type": "code",
   "execution_count": null,
   "metadata": {},
   "outputs": [],
   "source": [
    "using StaticArrays"
   ]
  },
  {
   "cell_type": "code",
   "execution_count": null,
   "metadata": {},
   "outputs": [],
   "source": [
    "struct SimpleWalker2{N,T}\n",
    "    position::SVector{N,T}\n",
    "end"
   ]
  },
  {
   "cell_type": "code",
   "execution_count": null,
   "metadata": {},
   "outputs": [],
   "source": [
    "w = SimpleWalker2(SA[-1,2,5.0])"
   ]
  },
  {
   "cell_type": "code",
   "execution_count": null,
   "metadata": {},
   "outputs": [],
   "source": [
    "w.position"
   ]
  },
  {
   "cell_type": "code",
   "execution_count": null,
   "metadata": {},
   "outputs": [],
   "source": [
    "w.position + SVector(1,2,3)"
   ]
  },
  {
   "cell_type": "code",
   "execution_count": null,
   "metadata": {},
   "outputs": [],
   "source": [
    "p = w.position"
   ]
  },
  {
   "cell_type": "code",
   "execution_count": null,
   "metadata": {},
   "outputs": [],
   "source": [
    "setindex(p,10,2)"
   ]
  },
  {
   "cell_type": "code",
   "execution_count": null,
   "metadata": {},
   "outputs": [],
   "source": [
    "setindex((1,2),10,2)"
   ]
  },
  {
   "cell_type": "markdown",
   "metadata": {},
   "source": [
    "5. Spatial SIR model\n",
    "We are now ready to build the spatial model. It will consist of walkers moving in a 2D box.\n",
    "\n",
    "Confinement inside a box\n",
    "We need the agents to live inside a box so that they don't disperse.\n",
    "\n",
    "Exercise\n",
    "Make a ConfinedWalker2D type. Its fields are a Walker2D object and a box size, L.\n",
    "Extend move to ConfinedWalker2D. If the walker tries to jump outside the box, i.e. outside the sites 1 to $L$, in either direction, then it remains where it is.\n",
    "Make a confined Agent and calculate and draw its trajectory to make sure it stays inside the box.\n",
    "Initialization\n",
    "For simplicity we will impose in our model that there is at most one agent on each site at all times (i.e. there is \"hard-core exclusion\"). This models the fact that two people cannot be in the same place at the same time.\n",
    "\n",
    "Exercise\n",
    "Write a function initialize that takes parameters 𝐿, the box length, and 𝑁, the number of agents. It builds, one by one, a Vector of agents, by proposing a position for each one and checking if that position is already occupied. If it is occupied, it should generate another one, and so on until it finds a free spot. All of the agents should have state S, except for one infectious individual (I).\n",
    "\n",
    "To do this you should write a function check_occupied that checks if a particular position is occupied.\n",
    "\n",
    "Write a function visualize_agents that takes in a collection of agents as argument. It should plot a point for each agent, coloured according to its status.\n",
    "\n",
    "Hint: You can use the keyword argument c=cs inside your call to the plotting function to set the colours of points to a vector of integers called cs. Don’t forget to use ratio=1.\n",
    "\n",
    "Run these functions to visualize the initial condition.\n",
    "Dynamics\n",
    "The dynamics has parameters $p_I$ and $p_R$, the probabilities of infection and recovery at each time step, respectively.\n",
    "\n",
    "Exercise\n",
    "Make an immutable struct SIRSimulation containing fields L, p_I, p_R and a Vector agents of Agents.\n",
    "Since we will have many Agents, stored in a Vector, we do not want to recreate the whole simulation at each time step. Instead we will now modify (mutate) the data structure, so our functions will now have ! at the end of their names.\n",
    "\n",
    "Nonetheless, we can still use an immutable struct, since the only things we will modify are inside the Vector. That is, we will never reassign the fields of the struct itself.\n",
    "\n",
    "Write a function step! that does one step of the dynamics of the model. The rules are as follows:\n",
    "\n",
    "Choose a single agent at random; call it $i$.\n",
    "\n",
    "Propose a new position for that agent.\n",
    "\n",
    "If that new position is not occupied, move agent $i$ there.\n",
    "\n",
    "If the new position is occupied, by agent $j$, then neither of them move, but they interact as follows:\n",
    "\n",
    "If agent $i$ is infected and agent $j$ is susceptible then agent $j$ gets infected with probability $p_I$.\n",
    "If agent $i$ is infected, it recovers with probability $p_R$.\n",
    "\n",
    "You should write helper functions when necessary.\n",
    "\n",
    "Make an interactive visualization to display the agents after each step, to check visually that the implementation is correct. You will need to pre-compute the whole evolution of the system before visualizing it. Use the function deepcopy to copy the state of the whole system each time you store it.\n",
    "Add to your visualization the history of $S$, $I$ and $R$ from time $0$ up to time $n$. To do this, make two separate plot objects $p_1$ and $p_2$ and use the hbox or vbox function (from Interact.jl) to put them together horizontally or vertically into a single plot."
   ]
  },
  {
   "cell_type": "code",
   "execution_count": null,
   "metadata": {},
   "outputs": [],
   "source": [
    "struct Walker2D\n",
    "   x::Int64\n",
    "   y::Int64\n",
    "end"
   ]
  },
  {
   "cell_type": "code",
   "execution_count": null,
   "metadata": {},
   "outputs": [],
   "source": [
    "struct ConfinedWalker2D\n",
    "    w::Walker2D\n",
    "    L::Int64\n",
    "end"
   ]
  },
  {
   "cell_type": "code",
   "execution_count": null,
   "metadata": {},
   "outputs": [],
   "source": [
    "function move(cw::ConfinedWalker2D)\n",
    "    r = rand()\n",
    "    step= rand([-1,1])\n",
    "    if r > 0.5\n",
    "        posx = cw.w.x + step\n",
    "        posy = cw.w.y\n",
    "    else\n",
    "         posx = cw.w.x\n",
    "         posy = cw.w.y + step\n",
    "     end\n",
    "    if (posx <= cw.L)&& (1 <= posx)&&(posy <= cw.L)&& (1 <= posy)\n",
    "        w = Walker2D(posx,posy)\n",
    "        return ConfinedWalker2D(w, cw.L)\n",
    "    else\n",
    "        return cw\n",
    "    end\n",
    "end"
   ]
  },
  {
   "cell_type": "code",
   "execution_count": null,
   "metadata": {},
   "outputs": [],
   "source": [
    "struct Agent{T}\n",
    "    cw::T\n",
    "    status::InfectionStatus\n",
    "end"
   ]
  },
  {
   "cell_type": "code",
   "execution_count": null,
   "metadata": {},
   "outputs": [],
   "source": [
    "function check_ocupied(w::Walker2D,v)\n",
    "    m = length(v)\n",
    "    if m == 0\n",
    "        return false\n",
    "    else\n",
    "        for i = 1:m\n",
    "            if (w.x == v[i].cw.w.x) && (w.y == v[i].cw.w.x)\n",
    "                return true\n",
    "            end\n",
    "        end\n",
    "        return false\n",
    "    end\n",
    "end"
   ]
  },
  {
   "cell_type": "code",
   "execution_count": null,
   "metadata": {},
   "outputs": [],
   "source": [
    "function initialize(L,N)\n",
    "    i= 0\n",
    "    v = []\n",
    "    while i < N\n",
    "    x = rand(-L:L)\n",
    "    y = rand(-L:L)\n",
    "    w = Walker2D(x,y)\n",
    "        if !check_ocupied(w,v)\n",
    "            a = Agent( ConfinedWalker2D(w,L), S)\n",
    "            push!(v,deepcopy(a))\n",
    "            i = i+1\n",
    "        end\n",
    "    end\n",
    "    index = rand(1:N)\n",
    "    v[index] = Agent(v[index].position,I)\n",
    "    return v\n",
    "end"
   ]
  },
  {
   "cell_type": "code",
   "execution_count": null,
   "metadata": {},
   "outputs": [],
   "source": [
    "function visualize_agents(v)\n",
    "    m = length(v)\n",
    "    x = SA[zeros(m)]\n",
    "    y = SA[zeros(m)]\n",
    "    infection_status = []\n",
    "    for i = 1:m\n",
    "        x[1][i] = v[i].cw.w.x\n",
    "        y[1][i] = v[i].cw.w.y\n",
    "        push!(infection_status,deepcopy(Int(v[i].status)))\n",
    "    end\n",
    "    return scatter((x,y) , c = infection_status, ratio =1, leg = false)\n",
    "end"
   ]
  },
  {
   "cell_type": "code",
   "execution_count": null,
   "metadata": {},
   "outputs": [],
   "source": [
    "\"Receives a vector of agents and the required probabilities,\n",
    "returns a modified agent vector\"\n",
    "function step!(v, pI, pR)\n",
    "    n = length(v)\n",
    "    i = rand(1:n)\n",
    "    cwi = move(v[i].cw)\n",
    "    index = check_ocupied2(cwi.w,v)\n",
    "    m = length(index)\n",
    "    if m == 0\n",
    "        v[i] = Agent(cwi, v[i].status)\n",
    "    else\n",
    "        for j in index\n",
    "            v[i],v[j] = infection(v[i],v[j], pI, pR)\n",
    "        end\n",
    "    end\n",
    "    return v\n",
    "end"
   ]
  },
  {
   "cell_type": "code",
   "execution_count": null,
   "metadata": {},
   "outputs": [],
   "source": []
  }
 ],
 "metadata": {
  "@webio": {
   "lastCommId": "f3db015893ed458e811adcecaedcd00c",
   "lastKernelId": "747d3518-602f-416b-8081-f5e328b1f261"
  },
  "kernelspec": {
   "display_name": "Julia 1.5.1",
   "language": "julia",
   "name": "julia-1.5"
  },
  "language_info": {
   "file_extension": ".jl",
   "mimetype": "application/julia",
   "name": "julia",
   "version": "1.5.1"
  }
 },
 "nbformat": 4,
 "nbformat_minor": 4
}
